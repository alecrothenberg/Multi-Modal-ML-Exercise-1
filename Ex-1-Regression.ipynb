{
 "cells": [
  {
   "attachments": {},
   "cell_type": "markdown",
   "metadata": {},
   "source": [
    "Exercise 1 Regression\n",
    "Imports"
   ]
  },
  {
   "cell_type": "code",
   "execution_count": 3,
   "metadata": {},
   "outputs": [],
   "source": [
    "import numpy as np \n",
    "import pandas as pd \n",
    "import matplotlib.pyplot as plt\n",
    "import seaborn as sns\n",
    "import statsmodels.api as sm\n",
    "\n",
    "from sklearn.linear_model import LinearRegression\n",
    "from sklearn.model_selection import train_test_split\n",
    "from sklearn.metrics import r2_score,mean_squared_error\n"
   ]
  },
  {
   "attachments": {},
   "cell_type": "markdown",
   "metadata": {},
   "source": [
    "Ordinary Least Squares Regression"
   ]
  },
  {
   "cell_type": "code",
   "execution_count": 44,
   "metadata": {},
   "outputs": [
    {
     "name": "stdout",
     "output_type": "stream",
     "text": [
      "Intent_Error   -0.693675\n",
      "ASR_Error      -0.662405\n",
      "Duration       -0.006631\n",
      "Gender          0.111523\n",
      "Purchase        0.661931\n",
      "SUS             1.000000\n",
      "Name: SUS, dtype: float64\n",
      "                            OLS Regression Results                            \n",
      "==============================================================================\n",
      "Dep. Variable:                    SUS   R-squared:                       0.593\n",
      "Model:                            OLS   Adj. R-squared:                  0.571\n",
      "Method:                 Least Squares   F-statistic:                     27.39\n",
      "Date:                Mon, 13 Feb 2023   Prob (F-statistic):           5.25e-17\n",
      "Time:                        21:34:36   Log-Likelihood:                -362.39\n",
      "No. Observations:                 100   AIC:                             736.8\n",
      "Df Residuals:                      94   BIC:                             752.4\n",
      "Df Model:                           5                                         \n",
      "Covariance Type:            nonrobust                                         \n",
      "================================================================================\n",
      "                   coef    std err          t      P>|t|      [0.025      0.975]\n",
      "--------------------------------------------------------------------------------\n",
      "const           93.0282      5.541     16.788      0.000      82.026     104.031\n",
      "Purchase         1.3412      3.676      0.365      0.716      -5.958       8.641\n",
      "Duration        -0.0002      0.010     -0.025      0.980      -0.020       0.019\n",
      "Gender           0.8367      1.971      0.425      0.672      -3.076       4.749\n",
      "ASR_Error       -1.4254      0.401     -3.553      0.001      -2.222      -0.629\n",
      "Intent_Error    -2.0092      0.439     -4.572      0.000      -2.882      -1.137\n",
      "==============================================================================\n",
      "Omnibus:                        6.969   Durbin-Watson:                   2.023\n",
      "Prob(Omnibus):                  0.031   Jarque-Bera (JB):                8.115\n",
      "Skew:                          -0.378   Prob(JB):                       0.0173\n",
      "Kurtosis:                       4.173   Cond. No.                     1.27e+03\n",
      "==============================================================================\n",
      "\n",
      "Notes:\n",
      "[1] Standard Errors assume that the covariance matrix of the errors is correctly specified.\n",
      "[2] The condition number is large, 1.27e+03. This might indicate that there are\n",
      "strong multicollinearity or other numerical problems.\n"
     ]
    },
    {
     "data": {
      "image/png": "[encoded data removed]",
      "text/plain": [
       "<Figure size 640x480 with 1 Axes>"
      ]
     },
     "metadata": {},
     "output_type": "display_data"
    }
   ],
   "source": [
    "df = pd.read_csv('dataUsed/data.csv')\n",
    "df = df.loc[:, ~df.columns.str.contains('^Unnamed')] # removes unamed column (https://stackoverflow.com/questions/43983622/remove-unnamed-columns-in-pandas-dataframe)\n",
    "\n",
    "print(df.corr(method='pearson')['SUS'].sort_values()) # display pearson coefficient\n",
    "\n",
    "x = df.drop(columns='SUS')\n",
    "y = df['SUS']\n",
    "\n",
    "x = sm.add_constant(x) # add intercept \n",
    "regressionModel = sm.OLS(y,x).fit()\n",
    "\n",
    "print(regressionModel.summary())\n",
    "\n",
    "sns.histplot(data=df['Gender'], palette='bright')\n",
    "plt.show()\n",
    "\n"
   ]
  },
  {
   "attachments": {},
   "cell_type": "markdown",
   "metadata": {},
   "source": [
    "2. Statistically influential variables (in order of influence)\n",
    "   1. Duration: P-vlaue of 0.980\n",
    "      2. Purchase: P-vlaue of 0.716\n",
    "   2. Gender: P-value of 0.672\n",
    "\n",
    "    Statisically uninfluential variable \n",
    "    ASR_Error and Intent_Error both had a P-value of under 0.05\n",
    "\n",
    "3. These results are relatively as expected. Duration being the most significant feature is expected as many users who use the system for a longer time are more likely to be expected to fill out a SUS as they longer a system is used they are more likely to have stronger opinions on it. Purchase and gender having a similar impact surprised me. Purchase having a larger effect is not as surprising due to the fact that many people making a purchase are likely to spend a longer time talking with Siri. However, I did not expect there to be a slight correlation between gender and the SUS scores. \n",
    "\n",
    "4. The most influential factor on SUS is the duration, as shown by the P-value being almost 1 at 0.980.\n",
    "\n",
    "5. The potential reasons for duration being the most signficant could be that users who spend more time interacting with Siri are more likely to enjoy their interactions and want to leave a positive review or become frusturated with the system and leave a negative review. The potential reason for purchase to be a significant factor relates to the that users who make purchases using Siri are more likely to spend a longer time using the system, causing them to have a higher duration. A potential reason for gender to be a significant predictor of SUS score could relate to one gender tending to purchase flights more often, thus causing them to have a longer duration using the system. It could also come from imbalance in the data as shown above, and that there are more represented in the data."
   ]
  },
  {
   "cell_type": "markdown",
   "metadata": {},
   "source": []
  },
  {
   "attachments": {},
   "cell_type": "markdown",
   "metadata": {},
   "source": [
    "Regression Analysis"
   ]
  },
  {
   "cell_type": "code",
   "execution_count": 49,
   "metadata": {},
   "outputs": [
    {
     "name": "stdout",
     "output_type": "stream",
     "text": [
      "The MSE of the linear regression model is:  71.61708525873807\n",
      "The R^2 value is  0.6627562381863907\n"
     ]
    }
   ],
   "source": [
    "#Evalute using MSE\n",
    "x_train, x_test, y_train, y_test = train_test_split(x,y,test_size=0.3)\n",
    "\n",
    "lr = LinearRegression().fit(x_train, y_train)\n",
    "\n",
    "y_train_pred = lr.predict(x_train)\n",
    "y_test_pred = lr.predict(x_test)\n",
    "\n",
    "print(\"The MSE of the linear regression model is: \", mean_squared_error(y_test, y_test_pred))\n",
    "print(\"The R^2 value is \", lr.score(x_test, y_test))\n",
    "\n"
   ]
  }
 ],
 "metadata": {
  "kernelspec": {
   "display_name": "base",
   "language": "python",
   "name": "python3"
  },
  "language_info": {
   "codemirror_mode": {
    "name": "ipython",
    "version": 3
   },
   "file_extension": ".py",
   "mimetype": "text/x-python",
   "name": "python",
   "nbconvert_exporter": "python",
   "pygments_lexer": "ipython3",
   "version": "3.9.13"
  },
  "orig_nbformat": 4,
  "vscode": {
   "interpreter": {
    "hash": "5b6ddfb2dcac28d85c50c41a252d540a7fa8764b66ffa4029a84ab1fab305572"
   }
  }
 },
 "nbformat": 4,
 "nbformat_minor": 2
}
